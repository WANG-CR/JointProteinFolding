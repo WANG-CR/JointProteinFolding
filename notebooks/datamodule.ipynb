{
 "cells": [
  {
   "cell_type": "code",
   "execution_count": null,
   "id": "16a21158",
   "metadata": {},
   "outputs": [],
   "source": [
    "import logging\n",
    "logging.basicConfig(level=logging.INFO)\n",
    "\n",
    "import pickle \n",
    "import numpy as np\n",
    "import os\n",
    "from tqdm import tqdm\n",
    "\n",
    "from openfold.data import data_pipeline, feature_pipeline\n",
    "from openfold.utils.tensor_utils import tensor_tree_map, dict_multimap\n",
    "from openfold.config import model_config\n",
    "from openfold.utils.loss import compute_contact_ca"
   ]
  },
  {
   "cell_type": "code",
   "execution_count": null,
   "id": "680d143b",
   "metadata": {},
   "outputs": [],
   "source": [
    "ss_file = '/Users/chenceshi/Downloads/Chrome Downloads/ss_annotation_31885.pkl'\n",
    "ss_dict = {}\n",
    "with open(ss_file, 'rb') as fin:\n",
    "    second_structure_data = pickle.load(fin)\n",
    "logging.warning(f\"get {len(second_structure_data)} second structure data\")\n",
    "\n",
    "# for ss_ in second_structure_data:\n",
    "#     tag_ = ss_['tag']\n",
    "#     chain_ = ss_['chain']\n",
    "#     assert len(set(chain_)) == 1\n",
    "#     if chain_[0] != tag_[4]:\n",
    "#         logging.warning(f\"remove bad pdbs: {tag_}, found chain: {chain_}\")\n",
    "#         continue\n",
    "#     tag2seq[ss_['tag']] = ss_['sequence']\n",
    "#     tag2top[ss_['tag']] = ss_['topology']\n",
    "        \n",
    "for ss in second_structure_data:\n",
    "    ss_dict[ss['tag']] = ss['ss3']\n",
    "my_data_pipeline = data_pipeline.DataPipeline(ss_dict)\n",
    "config = model_config(name='initial_training', train=True)\n",
    "my_feature_pipeline = feature_pipeline.FeaturePipeline(config.data)"
   ]
  },
  {
   "cell_type": "code",
   "execution_count": null,
   "id": "cd39cb86",
   "metadata": {},
   "outputs": [],
   "source": [
    "# all bad pdbs\n",
    "for x in second_structure_data:\n",
    "    tag = x['tag']\n",
    "    chain = x['chain']\n",
    "    assert len(set(chain)) == 1\n",
    "    if chain[0] != tag[4]:\n",
    "        print(tag)"
   ]
  },
  {
   "cell_type": "code",
   "execution_count": null,
   "id": "4b4ce014",
   "metadata": {},
   "outputs": [],
   "source": [
    "fname = '1afb100'\n",
    "path = '/Users/chenceshi/Downloads/1afb100.pdb'\n",
    "data = my_data_pipeline.process_pdb(path, fname[4])\n",
    "feats = my_feature_pipeline.process_features(data, 'train')"
   ]
  },
  {
   "cell_type": "code",
   "execution_count": null,
   "id": "65ddc444",
   "metadata": {},
   "outputs": [],
   "source": [
    "feats['all_atom_positions'].shape"
   ]
  },
  {
   "cell_type": "code",
   "execution_count": null,
   "id": "10cd4326",
   "metadata": {},
   "outputs": [],
   "source": [
    "cycle_no = 0\n",
    "fetch_cur_batch = lambda t: t[..., cycle_no]\n",
    "cur_feats = tensor_tree_map(fetch_cur_batch, feats)\n",
    "\n",
    "contact = compute_contact_ca(\n",
    "    cur_feats[\"all_atom_positions\"],\n",
    "    cur_feats[\"all_atom_mask\"],\n",
    "    cutoff=12\n",
    ")\n",
    "contact_ = contact[:63,:63].numpy()"
   ]
  },
  {
   "cell_type": "code",
   "execution_count": null,
   "id": "f03b5808",
   "metadata": {},
   "outputs": [],
   "source": [
    "beautiful_out = []\n",
    "for line in contact_:\n",
    "    tmp = []\n",
    "    for x_ in line:\n",
    "        tmp.append(str(x_))\n",
    "    beautiful_out.append(''.join(tmp))\n",
    "print('\\n'.join(beautiful_out))\n"
   ]
  }
 ],
 "metadata": {
  "kernelspec": {
   "display_name": "Python 3 (ipykernel)",
   "language": "python",
   "name": "python3"
  },
  "language_info": {
   "codemirror_mode": {
    "name": "ipython",
    "version": 3
   },
   "file_extension": ".py",
   "mimetype": "text/x-python",
   "name": "python",
   "nbconvert_exporter": "python",
   "pygments_lexer": "ipython3",
   "version": "3.7.12"
  }
 },
 "nbformat": 4,
 "nbformat_minor": 5
}
